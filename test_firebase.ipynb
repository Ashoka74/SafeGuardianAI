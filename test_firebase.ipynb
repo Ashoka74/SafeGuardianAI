{
 "cells": [
  {
   "cell_type": "code",
   "execution_count": 1,
   "metadata": {},
   "outputs": [],
   "source": [
    "import firebase_admin\n",
    "from firebase_admin import credentials\n",
    "from firebase_admin import db\n"
   ]
  },
  {
   "cell_type": "code",
   "execution_count": 12,
   "metadata": {},
   "outputs": [],
   "source": [
    "from firebase_admin import db"
   ]
  },
  {
   "cell_type": "code",
   "execution_count": 1,
   "metadata": {},
   "outputs": [
    {
     "data": {
      "text/plain": [
       "<firebase_admin.App at 0x22844025010>"
      ]
     },
     "execution_count": 1,
     "metadata": {},
     "output_type": "execute_result"
    }
   ],
   "source": [
    "import firebase_admin\n",
    "from firebase_admin import credentials\n",
    "\n",
    "cred = credentials.Certificate(\"disasterrescueai-firebase-adminsdk.json\")\n",
    "firebase_admin.initialize_app(cred)"
   ]
  },
  {
   "cell_type": "code",
   "execution_count": 16,
   "metadata": {},
   "outputs": [],
   "source": [
    "import streamlit as st\n",
    "import json\n",
    "\n",
    "db = firebase_admin.db\n",
    "\n",
    "def send_data():\n",
    "    json_data = {'key1': 'value1', 'key2': 'value2'}  # Your JSON data\n",
    "    ref = db.reference('rescue_team_dataset', app=firebase_admin.get_app(name='RescueTeam_RealTimeDatabase'))\n",
    "    ref.set(json_data)\n",
    "\n",
    "send_data()"
   ]
  },
  {
   "cell_type": "code",
   "execution_count": 3,
   "metadata": {},
   "outputs": [],
   "source": [
    "def sum_(nb1, nb2):\n",
    "    return nb1+nb2"
   ]
  },
  {
   "cell_type": "code",
   "execution_count": 11,
   "metadata": {},
   "outputs": [
    {
     "name": "stdout",
     "output_type": "stream",
     "text": [
      "Error at position 0:\n",
      "{\"victim_data\": {\"id\n",
      "                    ^\n"
     ]
    },
    {
     "data": {
      "text/plain": [
       "0"
      ]
     },
     "execution_count": 11,
     "metadata": {},
     "output_type": "execute_result"
    }
   ],
   "source": [
    "import json\n",
    "def locate_json_error(json_string):\n",
    "    for i in range(len(json_string)):\n",
    "        try:\n",
    "            json.loads(json_string[:i+1])\n",
    "        except json.JSONDecodeError as e:\n",
    "            #if \"Expecting ',' delimiter\" in str(e):\n",
    "            print(f\"Error at position {i}:\")\n",
    "            print(json_string[max(0, i-20):min(len(json_string), i+20)])\n",
    "            print(\" \" * 20 + \"^\")\n",
    "            return i\n",
    "    return -1\n",
    "\n",
    "locate_json_error('''{\"victim_data\": {\"id\": \"\", \"emergency_status\": \"\", \"location\": {\"lat\": 0.0, \"lon\": 0.0, \"details\": \"St.Peterson Street\", \"nearest_landmark\": \"\"}, \"personal_info\": {\"name\": \"Sinan\", \"age\": 31, \"gender\": \"\", \"language\": \"\", \"physical_description\": \"\"}, \"medical_info\": {\"injuries\": [], \"pain_level\": 0, \"medical_conditions\": [], \"medications\": [], \"allergies\": [], \"blood_type\": \"\"}, \"situation\": {\"disaster_type\": \"\", \"immediate_needs\": [], \"trapped\": False, \"mobility\": \"\", \"nearby_hazards\": []}, \"contact_info\": {\"phone\": \"\", \"email\": \"\", \"emergency_contact\": {\"name\": \"\", \"relationship\": \"\", \"phone\": \"\"}}, \"resources\": {\"food_status\": \"\", \"water_status\": \"\", \"shelter_status\": \"\", \"communication_devices\": []}, \"rescue_info\": {\"last_contact\": \"\", \"rescue_team_eta\": \"\", \"special_rescue_needs\": \"\"}, \"environmental_data\": {\"temperature\": 0, \"humidity\": 0, \"air_quality\": \"\", \"weather\": \"\"}, \"device_data\": {\"battery_level\": 0, \"network_status\": \"\"}, \"social_info\": {\"group_size\": 0, \"dependents\": 0, \"nearby_victims_count\": 0, \"can_communicate_verbally\": False}, \"psychological_status\": {\"stress_level\": \"\", \"special_needs\": \"\"}}}''')"
   ]
  },
  {
   "cell_type": "code",
   "execution_count": 6,
   "metadata": {},
   "outputs": [
    {
     "data": {
      "text/plain": [
       "dict_values([<function sum_ at 0x000002AE61BDF6A0>, 'test2'])"
      ]
     },
     "execution_count": 6,
     "metadata": {},
     "output_type": "execute_result"
    }
   ],
   "source": [
    "function_calling = {'get_rescue_data': sum_, 'get_location': 'test2'}\n",
    "\n",
    "function_calling.values()"
   ]
  },
  {
   "cell_type": "code",
   "execution_count": 17,
   "metadata": {},
   "outputs": [],
   "source": [
    "import firebase_admin\n",
    "from firebase_admin import credentials\n",
    "from firebase_admin import db\n",
    "import json\n",
    "import os\n",
    "import datetime\n",
    "time = datetime.datetime.now().strftime(\"%Y-%m-%d %H:%M:%S\")\n",
    "\n",
    "cred = credentials.Certificate(\"disasterrescueai-firebase-adminsdk.json\")\n",
    "\n",
    "try:\n",
    "    firebase_admin.initialize_app(credential=cred,options={'databaseURL': 'https://disasterrescueai-default-rtdb.firebaseio.com'}, name='RescueTeam_RealTimeDatabase')\n",
    "except:\n",
    "    pass\n",
    "\n",
    "db = firebase_admin.db\n",
    "\n",
    "def set_key(json_data):\n",
    "    ref = db.reference('rescue_team_dataset', app=firebase_admin.get_app(name='RescueTeam_RealTimeDatabase'))\n",
    "    # Generate a unique key\n",
    "    new_key = ref.push().key\n",
    "    # Add the data with the unique key\n",
    "    ref.child(new_key).set(json_data)\n",
    "    # if key exists, update key ref instead\n",
    "    if new_key is None:\n",
    "        new_key = ref.push().key\n",
    "        ref.child(new_key).set(json_data)\n",
    "    return new_key"
   ]
  },
  {
   "cell_type": "code",
   "execution_count": null,
   "metadata": {},
   "outputs": [],
   "source": [
    "test_data = set_key({'key1': 'value1', 'key2': 'value2'})"
   ]
  },
  {
   "cell_type": "code",
   "execution_count": 21,
   "metadata": {},
   "outputs": [
    {
     "data": {
      "text/plain": [
       "'-O3f_m7NM7NyiUCmZb2P'"
      ]
     },
     "execution_count": 21,
     "metadata": {},
     "output_type": "execute_result"
    }
   ],
   "source": [
    "test_data"
   ]
  },
  {
   "cell_type": "code",
   "execution_count": 24,
   "metadata": {},
   "outputs": [
    {
     "name": "stdout",
     "output_type": "stream",
     "text": [
      "Data updated for victim ID: -O3f_m7NM7NyiUCmZb2P\n"
     ]
    }
   ],
   "source": [
    "\n",
    "\n",
    "def update_(victim_id, json_data):\n",
    "    # Check if key exists in the database\n",
    "    ref = db.reference(f'rescue_team_dataset/{victim_id}', app=firebase_admin.get_app(name='RescueTeam_RealTimeDatabase'))\n",
    "    if ref.get() is None:\n",
    "        print(\"Key does not exist, creating new entry...\")\n",
    "        set_key(json_data)\n",
    "    else:\n",
    "        # Key exists, update the values\n",
    "        ref.update(json_data)\n",
    "        print(f\"Data updated for victim ID: {victim_id}\")\n",
    "\n",
    "update_(test_data, {'key1': 'value1', 'time': time})"
   ]
  },
  {
   "cell_type": "code",
   "execution_count": 20,
   "metadata": {},
   "outputs": [
    {
     "data": {
      "text/plain": [
       "'-O3f_m7NM7NyiUCmZb2P'"
      ]
     },
     "execution_count": 20,
     "metadata": {},
     "output_type": "execute_result"
    }
   ],
   "source": [
    "test_data"
   ]
  },
  {
   "cell_type": "code",
   "execution_count": null,
   "metadata": {},
   "outputs": [],
   "source": []
  }
 ],
 "metadata": {
  "kernelspec": {
   "display_name": "Python 3",
   "language": "python",
   "name": "python3"
  },
  "language_info": {
   "codemirror_mode": {
    "name": "ipython",
    "version": 3
   },
   "file_extension": ".py",
   "mimetype": "text/x-python",
   "name": "python",
   "nbconvert_exporter": "python",
   "pygments_lexer": "ipython3",
   "version": "3.11.3"
  }
 },
 "nbformat": 4,
 "nbformat_minor": 2
}
